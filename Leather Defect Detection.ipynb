{
 "cells": [
  {
   "cell_type": "code",
   "execution_count": 2,
   "metadata": {
    "colab": {
     "base_uri": "https://localhost:8080/"
    },
    "executionInfo": {
     "elapsed": 414,
     "status": "ok",
     "timestamp": 1652510429152,
     "user": {
      "displayName": "Suraj Ale Magar",
      "userId": "13131495928172698893"
     },
     "user_tz": -345
    },
    "id": "ZaLO5SzWuGR4",
    "outputId": "f084b8b5-1190-4336-a0d8-8f7147d1972b"
   },
   "outputs": [
    {
     "name": "stdout",
     "output_type": "stream",
     "text": [
      "Found existing installation: tensorflow 2.4.1\n",
      "Uninstalling tensorflow-2.4.1:\n",
      "  Successfully uninstalled tensorflow-2.4.1\n"
     ]
    },
    {
     "name": "stderr",
     "output_type": "stream",
     "text": [
      "WARNING: Ignoring invalid distribution - (c:\\users\\sanam\\appdata\\local\\programs\\python\\python37\\lib\\site-packages)\n",
      "WARNING: Ignoring invalid distribution - (c:\\users\\sanam\\appdata\\local\\programs\\python\\python37\\lib\\site-packages)\n",
      "ERROR: Exception:\n",
      "Traceback (most recent call last):\n",
      "  File \"c:\\users\\sanam\\appdata\\local\\programs\\python\\python37\\lib\\site-packages\\pip\\_internal\\cli\\base_command.py\", line 160, in exc_logging_wrapper\n",
      "    status = run_func(*args)\n",
      "  File \"c:\\users\\sanam\\appdata\\local\\programs\\python\\python37\\lib\\site-packages\\pip\\_internal\\commands\\uninstall.py\", line 110, in run\n",
      "    uninstall_pathset.commit()\n",
      "  File \"c:\\users\\sanam\\appdata\\local\\programs\\python\\python37\\lib\\site-packages\\pip\\_internal\\req\\req_uninstall.py\", line 424, in commit\n",
      "    self._moved_paths.commit()\n",
      "  File \"c:\\users\\sanam\\appdata\\local\\programs\\python\\python37\\lib\\site-packages\\pip\\_internal\\req\\req_uninstall.py\", line 277, in commit\n",
      "    save_dir.cleanup()\n",
      "  File \"c:\\users\\sanam\\appdata\\local\\programs\\python\\python37\\lib\\site-packages\\pip\\_internal\\utils\\temp_dir.py\", line 173, in cleanup\n",
      "    rmtree(self._path)\n",
      "  File \"c:\\users\\sanam\\appdata\\local\\programs\\python\\python37\\lib\\site-packages\\pip\\_vendor\\tenacity\\__init__.py\", line 328, in wrapped_f\n",
      "    return self(f, *args, **kw)\n",
      "  File \"c:\\users\\sanam\\appdata\\local\\programs\\python\\python37\\lib\\site-packages\\pip\\_vendor\\tenacity\\__init__.py\", line 408, in __call__\n",
      "    do = self.iter(retry_state=retry_state)\n",
      "  File \"c:\\users\\sanam\\appdata\\local\\programs\\python\\python37\\lib\\site-packages\\pip\\_vendor\\tenacity\\__init__.py\", line 364, in iter\n",
      "    raise retry_exc.reraise()\n",
      "  File \"c:\\users\\sanam\\appdata\\local\\programs\\python\\python37\\lib\\site-packages\\pip\\_vendor\\tenacity\\__init__.py\", line 197, in reraise\n",
      "    raise self.last_attempt.result()\n",
      "  File \"c:\\users\\sanam\\appdata\\local\\programs\\python\\python37\\lib\\concurrent\\futures\\_base.py\", line 428, in result\n",
      "    return self.__get_result()\n",
      "  File \"c:\\users\\sanam\\appdata\\local\\programs\\python\\python37\\lib\\concurrent\\futures\\_base.py\", line 384, in __get_result\n",
      "    raise self._exception\n",
      "  File \"c:\\users\\sanam\\appdata\\local\\programs\\python\\python37\\lib\\site-packages\\pip\\_vendor\\tenacity\\__init__.py\", line 411, in __call__\n",
      "    result = fn(*args, **kwargs)\n",
      "  File \"c:\\users\\sanam\\appdata\\local\\programs\\python\\python37\\lib\\site-packages\\pip\\_internal\\utils\\misc.py\", line 129, in rmtree\n",
      "    shutil.rmtree(dir, ignore_errors=ignore_errors, onerror=rmtree_errorhandler)\n",
      "  File \"c:\\users\\sanam\\appdata\\local\\programs\\python\\python37\\lib\\shutil.py\", line 516, in rmtree\n",
      "    return _rmtree_unsafe(path, onerror)\n",
      "  File \"c:\\users\\sanam\\appdata\\local\\programs\\python\\python37\\lib\\shutil.py\", line 395, in _rmtree_unsafe\n",
      "    _rmtree_unsafe(fullname, onerror)\n",
      "  File \"c:\\users\\sanam\\appdata\\local\\programs\\python\\python37\\lib\\shutil.py\", line 395, in _rmtree_unsafe\n",
      "    _rmtree_unsafe(fullname, onerror)\n",
      "  File \"c:\\users\\sanam\\appdata\\local\\programs\\python\\python37\\lib\\shutil.py\", line 395, in _rmtree_unsafe\n",
      "    _rmtree_unsafe(fullname, onerror)\n",
      "  [Previous line repeated 1 more time]\n",
      "  File \"c:\\users\\sanam\\appdata\\local\\programs\\python\\python37\\lib\\shutil.py\", line 400, in _rmtree_unsafe\n",
      "    onerror(os.unlink, fullname, sys.exc_info())\n",
      "  File \"c:\\users\\sanam\\appdata\\local\\programs\\python\\python37\\lib\\shutil.py\", line 398, in _rmtree_unsafe\n",
      "    os.unlink(fullname)\n",
      "PermissionError: [WinError 5] Access is denied: 'C:\\\\Users\\\\sanam\\\\AppData\\\\Local\\\\Temp\\\\pip-uninstall-9noivxra\\\\python\\\\data\\\\experimental\\\\service\\\\_pywrap_server_lib.pyd'\n"
     ]
    },
    {
     "name": "stdout",
     "output_type": "stream",
     "text": [
      "^C\n"
     ]
    }
   ],
   "source": [
    "!pip uninstall tensorflow -y\n",
    "!pip install  tensorflow==2.5.0"
   ]
  },
  {
   "cell_type": "code",
   "execution_count": 1,
   "metadata": {
    "colab": {
     "base_uri": "https://localhost:8080/"
    },
    "executionInfo": {
     "elapsed": 377,
     "status": "ok",
     "timestamp": 1652508920571,
     "user": {
      "displayName": "Suraj Ale Magar",
      "userId": "13131495928172698893"
     },
     "user_tz": -345
    },
    "id": "x4PQhsiAwBpe",
    "outputId": "263f19c8-9a9a-40ac-8344-2d705b75d75a"
   },
   "outputs": [
    {
     "ename": "AttributeError",
     "evalue": "module 'tensorflow.compat.v2.__internal__' has no attribute 'dispatch'",
     "output_type": "error",
     "traceback": [
      "\u001b[1;31m---------------------------------------------------------------------------\u001b[0m",
      "\u001b[1;31mAttributeError\u001b[0m                            Traceback (most recent call last)",
      "\u001b[1;32m~\\AppData\\Local\\Temp\\ipykernel_18356\\2499770356.py\u001b[0m in \u001b[0;36m<module>\u001b[1;34m\u001b[0m\n\u001b[1;32m----> 1\u001b[1;33m \u001b[1;32mimport\u001b[0m \u001b[0mkeras\u001b[0m\u001b[1;33m\u001b[0m\u001b[1;33m\u001b[0m\u001b[0m\n\u001b[0m\u001b[0;32m      2\u001b[0m \u001b[0mprint\u001b[0m\u001b[1;33m(\u001b[0m\u001b[0mkeras\u001b[0m\u001b[1;33m.\u001b[0m\u001b[0m__version__\u001b[0m\u001b[1;33m)\u001b[0m\u001b[1;33m\u001b[0m\u001b[1;33m\u001b[0m\u001b[0m\n",
      "\u001b[1;32mc:\\users\\sanam\\appdata\\local\\programs\\python\\python37\\lib\\site-packages\\keras\\__init__.py\u001b[0m in \u001b[0;36m<module>\u001b[1;34m\u001b[0m\n\u001b[0;32m     19\u001b[0m \"\"\"\n\u001b[0;32m     20\u001b[0m \u001b[1;32mfrom\u001b[0m \u001b[0mkeras\u001b[0m \u001b[1;32mimport\u001b[0m \u001b[0mdistribute\u001b[0m\u001b[1;33m\u001b[0m\u001b[1;33m\u001b[0m\u001b[0m\n\u001b[1;32m---> 21\u001b[1;33m \u001b[1;32mfrom\u001b[0m \u001b[0mkeras\u001b[0m \u001b[1;32mimport\u001b[0m \u001b[0mmodels\u001b[0m\u001b[1;33m\u001b[0m\u001b[1;33m\u001b[0m\u001b[0m\n\u001b[0m\u001b[0;32m     22\u001b[0m \u001b[1;32mfrom\u001b[0m \u001b[0mkeras\u001b[0m\u001b[1;33m.\u001b[0m\u001b[0mengine\u001b[0m\u001b[1;33m.\u001b[0m\u001b[0minput_layer\u001b[0m \u001b[1;32mimport\u001b[0m \u001b[0mInput\u001b[0m\u001b[1;33m\u001b[0m\u001b[1;33m\u001b[0m\u001b[0m\n\u001b[0;32m     23\u001b[0m \u001b[1;32mfrom\u001b[0m \u001b[0mkeras\u001b[0m\u001b[1;33m.\u001b[0m\u001b[0mengine\u001b[0m\u001b[1;33m.\u001b[0m\u001b[0msequential\u001b[0m \u001b[1;32mimport\u001b[0m \u001b[0mSequential\u001b[0m\u001b[1;33m\u001b[0m\u001b[1;33m\u001b[0m\u001b[0m\n",
      "\u001b[1;32mc:\\users\\sanam\\appdata\\local\\programs\\python\\python37\\lib\\site-packages\\keras\\models\\__init__.py\u001b[0m in \u001b[0;36m<module>\u001b[1;34m\u001b[0m\n\u001b[0;32m     16\u001b[0m \u001b[1;33m\u001b[0m\u001b[0m\n\u001b[0;32m     17\u001b[0m \u001b[1;33m\u001b[0m\u001b[0m\n\u001b[1;32m---> 18\u001b[1;33m \u001b[1;32mfrom\u001b[0m \u001b[0mkeras\u001b[0m\u001b[1;33m.\u001b[0m\u001b[0mengine\u001b[0m\u001b[1;33m.\u001b[0m\u001b[0mfunctional\u001b[0m \u001b[1;32mimport\u001b[0m \u001b[0mFunctional\u001b[0m\u001b[1;33m\u001b[0m\u001b[1;33m\u001b[0m\u001b[0m\n\u001b[0m\u001b[0;32m     19\u001b[0m \u001b[1;32mfrom\u001b[0m \u001b[0mkeras\u001b[0m\u001b[1;33m.\u001b[0m\u001b[0mengine\u001b[0m\u001b[1;33m.\u001b[0m\u001b[0msequential\u001b[0m \u001b[1;32mimport\u001b[0m \u001b[0mSequential\u001b[0m\u001b[1;33m\u001b[0m\u001b[1;33m\u001b[0m\u001b[0m\n\u001b[0;32m     20\u001b[0m \u001b[1;32mfrom\u001b[0m \u001b[0mkeras\u001b[0m\u001b[1;33m.\u001b[0m\u001b[0mengine\u001b[0m\u001b[1;33m.\u001b[0m\u001b[0mtraining\u001b[0m \u001b[1;32mimport\u001b[0m \u001b[0mModel\u001b[0m\u001b[1;33m\u001b[0m\u001b[1;33m\u001b[0m\u001b[0m\n",
      "\u001b[1;32mc:\\users\\sanam\\appdata\\local\\programs\\python\\python37\\lib\\site-packages\\keras\\engine\\functional.py\u001b[0m in \u001b[0;36m<module>\u001b[1;34m\u001b[0m\n\u001b[0;32m     24\u001b[0m \u001b[1;32mimport\u001b[0m \u001b[0mtensorflow\u001b[0m\u001b[1;33m.\u001b[0m\u001b[0mcompat\u001b[0m\u001b[1;33m.\u001b[0m\u001b[0mv2\u001b[0m \u001b[1;32mas\u001b[0m \u001b[0mtf\u001b[0m\u001b[1;33m\u001b[0m\u001b[1;33m\u001b[0m\u001b[0m\n\u001b[0;32m     25\u001b[0m \u001b[1;33m\u001b[0m\u001b[0m\n\u001b[1;32m---> 26\u001b[1;33m \u001b[1;32mfrom\u001b[0m \u001b[0mkeras\u001b[0m \u001b[1;32mimport\u001b[0m \u001b[0mbackend\u001b[0m\u001b[1;33m\u001b[0m\u001b[1;33m\u001b[0m\u001b[0m\n\u001b[0m\u001b[0;32m     27\u001b[0m \u001b[1;32mfrom\u001b[0m \u001b[0mkeras\u001b[0m\u001b[1;33m.\u001b[0m\u001b[0mdtensor\u001b[0m \u001b[1;32mimport\u001b[0m \u001b[0mlayout_map\u001b[0m \u001b[1;32mas\u001b[0m \u001b[0mlayout_map_lib\u001b[0m\u001b[1;33m\u001b[0m\u001b[1;33m\u001b[0m\u001b[0m\n\u001b[0;32m     28\u001b[0m \u001b[1;32mfrom\u001b[0m \u001b[0mkeras\u001b[0m\u001b[1;33m.\u001b[0m\u001b[0mengine\u001b[0m \u001b[1;32mimport\u001b[0m \u001b[0mbase_layer\u001b[0m\u001b[1;33m\u001b[0m\u001b[1;33m\u001b[0m\u001b[0m\n",
      "\u001b[1;32mc:\\users\\sanam\\appdata\\local\\programs\\python\\python37\\lib\\site-packages\\keras\\backend.py\u001b[0m in \u001b[0;36m<module>\u001b[1;34m\u001b[0m\n\u001b[0;32m     30\u001b[0m \u001b[1;32mimport\u001b[0m \u001b[0mtensorflow\u001b[0m\u001b[1;33m.\u001b[0m\u001b[0mcompat\u001b[0m\u001b[1;33m.\u001b[0m\u001b[0mv2\u001b[0m \u001b[1;32mas\u001b[0m \u001b[0mtf\u001b[0m\u001b[1;33m\u001b[0m\u001b[1;33m\u001b[0m\u001b[0m\n\u001b[0;32m     31\u001b[0m \u001b[1;33m\u001b[0m\u001b[0m\n\u001b[1;32m---> 32\u001b[1;33m \u001b[1;32mfrom\u001b[0m \u001b[0mkeras\u001b[0m \u001b[1;32mimport\u001b[0m \u001b[0mbackend_config\u001b[0m\u001b[1;33m\u001b[0m\u001b[1;33m\u001b[0m\u001b[0m\n\u001b[0m\u001b[0;32m     33\u001b[0m \u001b[1;32mfrom\u001b[0m \u001b[0mkeras\u001b[0m\u001b[1;33m.\u001b[0m\u001b[0mdistribute\u001b[0m \u001b[1;32mimport\u001b[0m \u001b[0mdistribute_coordinator_utils\u001b[0m \u001b[1;32mas\u001b[0m \u001b[0mdc\u001b[0m\u001b[1;33m\u001b[0m\u001b[1;33m\u001b[0m\u001b[0m\n\u001b[0;32m     34\u001b[0m \u001b[1;32mfrom\u001b[0m \u001b[0mkeras\u001b[0m\u001b[1;33m.\u001b[0m\u001b[0mengine\u001b[0m \u001b[1;32mimport\u001b[0m \u001b[0mkeras_tensor\u001b[0m\u001b[1;33m\u001b[0m\u001b[1;33m\u001b[0m\u001b[0m\n",
      "\u001b[1;32mc:\\users\\sanam\\appdata\\local\\programs\\python\\python37\\lib\\site-packages\\keras\\backend_config.py\u001b[0m in \u001b[0;36m<module>\u001b[1;34m\u001b[0m\n\u001b[0;32m     31\u001b[0m \u001b[1;33m\u001b[0m\u001b[0m\n\u001b[0;32m     32\u001b[0m \u001b[1;33m@\u001b[0m\u001b[0mkeras_export\u001b[0m\u001b[1;33m(\u001b[0m\u001b[1;34m\"keras.backend.epsilon\"\u001b[0m\u001b[1;33m)\u001b[0m\u001b[1;33m\u001b[0m\u001b[1;33m\u001b[0m\u001b[0m\n\u001b[1;32m---> 33\u001b[1;33m \u001b[1;33m@\u001b[0m\u001b[0mtf\u001b[0m\u001b[1;33m.\u001b[0m\u001b[0m__internal__\u001b[0m\u001b[1;33m.\u001b[0m\u001b[0mdispatch\u001b[0m\u001b[1;33m.\u001b[0m\u001b[0madd_dispatch_support\u001b[0m\u001b[1;33m\u001b[0m\u001b[1;33m\u001b[0m\u001b[0m\n\u001b[0m\u001b[0;32m     34\u001b[0m \u001b[1;32mdef\u001b[0m \u001b[0mepsilon\u001b[0m\u001b[1;33m(\u001b[0m\u001b[1;33m)\u001b[0m\u001b[1;33m:\u001b[0m\u001b[1;33m\u001b[0m\u001b[1;33m\u001b[0m\u001b[0m\n\u001b[0;32m     35\u001b[0m     \"\"\"Returns the value of the fuzz factor used in numeric expressions.\n",
      "\u001b[1;31mAttributeError\u001b[0m: module 'tensorflow.compat.v2.__internal__' has no attribute 'dispatch'"
     ]
    }
   ],
   "source": [
    "import keras\n",
    "print(keras.__version__)"
   ]
  },
  {
   "cell_type": "code",
   "execution_count": 8,
   "metadata": {},
   "outputs": [
    {
     "name": "stdout",
     "output_type": "stream",
     "text": [
      "Collecting q\n",
      "  Downloading q-2.7-py2.py3-none-any.whl (10 kB)\n",
      "Collecting tensorflow==2.1\n",
      "  Downloading tensorflow-2.1.0-cp37-cp37m-win_amd64.whl (355.8 MB)\n",
      "     -------------------------------------- 355.8/355.8 MB 1.0 MB/s eta 0:00:00\n",
      "Collecting astor>=0.6.0\n",
      "  Downloading astor-0.8.1-py2.py3-none-any.whl (27 kB)\n",
      "Requirement already satisfied: numpy<2.0,>=1.16.0 in c:\\users\\sanam\\appdata\\local\\programs\\python\\python37\\lib\\site-packages (from tensorflow==2.1) (1.19.5)\n",
      "Collecting scipy==1.4.1\n",
      "  Downloading scipy-1.4.1-cp37-cp37m-win_amd64.whl (30.9 MB)\n",
      "     ---------------------------------------- 30.9/30.9 MB 1.2 MB/s eta 0:00:00\n",
      "Requirement already satisfied: wheel>=0.26 in c:\\users\\sanam\\appdata\\local\\programs\\python\\python37\\lib\\site-packages (from tensorflow==2.1) (0.38.4)\n",
      "Requirement already satisfied: keras-preprocessing>=1.1.0 in c:\\users\\sanam\\appdata\\local\\programs\\python\\python37\\lib\\site-packages (from tensorflow==2.1) (1.1.2)\n",
      "Requirement already satisfied: protobuf>=3.8.0 in c:\\users\\sanam\\appdata\\local\\programs\\python\\python37\\lib\\site-packages (from tensorflow==2.1) (3.19.6)\n",
      "Requirement already satisfied: wrapt>=1.11.1 in c:\\users\\sanam\\appdata\\local\\programs\\python\\python37\\lib\\site-packages (from tensorflow==2.1) (1.12.1)\n",
      "Requirement already satisfied: opt-einsum>=2.3.2 in c:\\users\\sanam\\appdata\\local\\programs\\python\\python37\\lib\\site-packages (from tensorflow==2.1) (3.3.0)\n",
      "Collecting tensorflow-estimator<2.2.0,>=2.1.0rc0\n",
      "  Downloading tensorflow_estimator-2.1.0-py2.py3-none-any.whl (448 kB)\n",
      "     -------------------------------------- 449.0/449.0 kB 2.2 MB/s eta 0:00:00\n",
      "Requirement already satisfied: absl-py>=0.7.0 in c:\\users\\sanam\\appdata\\local\\programs\\python\\python37\\lib\\site-packages (from tensorflow==2.1) (0.15.0)\n",
      "Requirement already satisfied: grpcio>=1.8.6 in c:\\users\\sanam\\appdata\\local\\programs\\python\\python37\\lib\\site-packages (from tensorflow==2.1) (1.32.0)\n",
      "Requirement already satisfied: termcolor>=1.1.0 in c:\\users\\sanam\\appdata\\local\\programs\\python\\python37\\lib\\site-packages (from tensorflow==2.1) (1.1.0)\n",
      "Collecting tensorboard<2.2.0,>=2.1.0\n",
      "  Downloading tensorboard-2.1.1-py3-none-any.whl (3.8 MB)\n",
      "     ---------------------------------------- 3.8/3.8 MB 1.3 MB/s eta 0:00:00\n",
      "Requirement already satisfied: six>=1.12.0 in c:\\users\\sanam\\appdata\\local\\programs\\python\\python37\\lib\\site-packages (from tensorflow==2.1) (1.15.0)\n",
      "Collecting gast==0.2.2\n",
      "  Downloading gast-0.2.2.tar.gz (10 kB)\n",
      "  Preparing metadata (setup.py): started\n",
      "  Preparing metadata (setup.py): finished with status 'done'\n",
      "Collecting keras-applications>=1.0.8\n",
      "  Downloading Keras_Applications-1.0.8-py3-none-any.whl (50 kB)\n",
      "     ---------------------------------------- 50.7/50.7 kB 2.5 MB/s eta 0:00:00\n",
      "Requirement already satisfied: google-pasta>=0.1.6 in c:\\users\\sanam\\appdata\\local\\programs\\python\\python37\\lib\\site-packages (from tensorflow==2.1) (0.2.0)\n",
      "Requirement already satisfied: h5py in c:\\users\\sanam\\appdata\\local\\programs\\python\\python37\\lib\\site-packages (from keras-applications>=1.0.8->tensorflow==2.1) (2.10.0)\n",
      "Requirement already satisfied: requests<3,>=2.21.0 in c:\\users\\sanam\\appdata\\local\\programs\\python\\python37\\lib\\site-packages (from tensorboard<2.2.0,>=2.1.0->tensorflow==2.1) (2.28.2)\n",
      "Requirement already satisfied: google-auth-oauthlib<0.5,>=0.4.1 in c:\\users\\sanam\\appdata\\local\\programs\\python\\python37\\lib\\site-packages (from tensorboard<2.2.0,>=2.1.0->tensorflow==2.1) (0.4.6)\n",
      "Requirement already satisfied: werkzeug>=0.11.15 in c:\\users\\sanam\\appdata\\local\\programs\\python\\python37\\lib\\site-packages (from tensorboard<2.2.0,>=2.1.0->tensorflow==2.1) (2.2.3)\n",
      "Requirement already satisfied: markdown>=2.6.8 in c:\\users\\sanam\\appdata\\local\\programs\\python\\python37\\lib\\site-packages (from tensorboard<2.2.0,>=2.1.0->tensorflow==2.1) (3.4.1)\n",
      "Requirement already satisfied: setuptools>=41.0.0 in c:\\users\\sanam\\appdata\\local\\programs\\python\\python37\\lib\\site-packages (from tensorboard<2.2.0,>=2.1.0->tensorflow==2.1) (67.4.0)\n",
      "Collecting google-auth<2,>=1.6.3\n",
      "  Downloading google_auth-1.35.0-py2.py3-none-any.whl (152 kB)\n",
      "     -------------------------------------- 152.9/152.9 kB 2.3 MB/s eta 0:00:00\n",
      "Requirement already satisfied: pyasn1-modules>=0.2.1 in c:\\users\\sanam\\appdata\\local\\programs\\python\\python37\\lib\\site-packages (from google-auth<2,>=1.6.3->tensorboard<2.2.0,>=2.1.0->tensorflow==2.1) (0.2.8)\n",
      "Requirement already satisfied: rsa<5,>=3.1.4 in c:\\users\\sanam\\appdata\\local\\programs\\python\\python37\\lib\\site-packages (from google-auth<2,>=1.6.3->tensorboard<2.2.0,>=2.1.0->tensorflow==2.1) (4.9)\n",
      "Collecting cachetools<5.0,>=2.0.0\n",
      "  Downloading cachetools-4.2.4-py3-none-any.whl (10 kB)\n",
      "Requirement already satisfied: requests-oauthlib>=0.7.0 in c:\\users\\sanam\\appdata\\local\\programs\\python\\python37\\lib\\site-packages (from google-auth-oauthlib<0.5,>=0.4.1->tensorboard<2.2.0,>=2.1.0->tensorflow==2.1) (1.3.1)\n",
      "Requirement already satisfied: importlib-metadata>=4.4 in c:\\users\\sanam\\appdata\\local\\programs\\python\\python37\\lib\\site-packages (from markdown>=2.6.8->tensorboard<2.2.0,>=2.1.0->tensorflow==2.1) (6.0.0)\n",
      "Requirement already satisfied: certifi>=2017.4.17 in c:\\users\\sanam\\appdata\\local\\programs\\python\\python37\\lib\\site-packages (from requests<3,>=2.21.0->tensorboard<2.2.0,>=2.1.0->tensorflow==2.1) (2022.12.7)\n",
      "Requirement already satisfied: urllib3<1.27,>=1.21.1 in c:\\users\\sanam\\appdata\\local\\programs\\python\\python37\\lib\\site-packages (from requests<3,>=2.21.0->tensorboard<2.2.0,>=2.1.0->tensorflow==2.1) (1.26.14)\n",
      "Requirement already satisfied: charset-normalizer<4,>=2 in c:\\users\\sanam\\appdata\\local\\programs\\python\\python37\\lib\\site-packages (from requests<3,>=2.21.0->tensorboard<2.2.0,>=2.1.0->tensorflow==2.1) (3.0.1)\n",
      "Requirement already satisfied: idna<4,>=2.5 in c:\\users\\sanam\\appdata\\local\\programs\\python\\python37\\lib\\site-packages (from requests<3,>=2.21.0->tensorboard<2.2.0,>=2.1.0->tensorflow==2.1) (3.4)\n",
      "Requirement already satisfied: MarkupSafe>=2.1.1 in c:\\users\\sanam\\appdata\\local\\programs\\python\\python37\\lib\\site-packages (from werkzeug>=0.11.15->tensorboard<2.2.0,>=2.1.0->tensorflow==2.1) (2.1.2)\n",
      "Requirement already satisfied: zipp>=0.5 in c:\\users\\sanam\\appdata\\local\\programs\\python\\python37\\lib\\site-packages (from importlib-metadata>=4.4->markdown>=2.6.8->tensorboard<2.2.0,>=2.1.0->tensorflow==2.1) (3.12.0)\n",
      "Requirement already satisfied: typing-extensions>=3.6.4 in c:\\users\\sanam\\appdata\\local\\programs\\python\\python37\\lib\\site-packages (from importlib-metadata>=4.4->markdown>=2.6.8->tensorboard<2.2.0,>=2.1.0->tensorflow==2.1) (3.7.4.3)\n",
      "Requirement already satisfied: pyasn1<0.5.0,>=0.4.6 in c:\\users\\sanam\\appdata\\local\\programs\\python\\python37\\lib\\site-packages (from pyasn1-modules>=0.2.1->google-auth<2,>=1.6.3->tensorboard<2.2.0,>=2.1.0->tensorflow==2.1) (0.4.8)\n",
      "Requirement already satisfied: oauthlib>=3.0.0 in c:\\users\\sanam\\appdata\\local\\programs\\python\\python37\\lib\\site-packages (from requests-oauthlib>=0.7.0->google-auth-oauthlib<0.5,>=0.4.1->tensorboard<2.2.0,>=2.1.0->tensorflow==2.1) (3.2.2)\n",
      "Building wheels for collected packages: gast\n",
      "  Building wheel for gast (setup.py): started\n",
      "  Building wheel for gast (setup.py): finished with status 'done'\n",
      "  Created wheel for gast: filename=gast-0.2.2-py3-none-any.whl size=7549 sha256=df495346dd41ea7874dfaf04e4e215c14884b31ef0a8df0cc3d609d24ba31e9b\n",
      "  Stored in directory: c:\\users\\sanam\\appdata\\local\\pip\\cache\\wheels\\21\\7f\\02\\420f32a803f7d0967b48dd823da3f558c5166991bfd204eef3\n",
      "Successfully built gast\n",
      "Installing collected packages: tensorflow-estimator, q, scipy, gast, cachetools, astor, keras-applications, google-auth, tensorboard, tensorflow\n",
      "  Attempting uninstall: tensorflow-estimator\n",
      "    Found existing installation: tensorflow-estimator 2.4.0\n",
      "    Uninstalling tensorflow-estimator-2.4.0:\n",
      "      Successfully uninstalled tensorflow-estimator-2.4.0\n",
      "  Attempting uninstall: scipy\n",
      "    Found existing installation: scipy 1.7.3\n",
      "    Uninstalling scipy-1.7.3:\n",
      "      Successfully uninstalled scipy-1.7.3\n"
     ]
    },
    {
     "name": "stderr",
     "output_type": "stream",
     "text": [
      "WARNING: Ignoring invalid distribution - (c:\\users\\sanam\\appdata\\local\\programs\\python\\python37\\lib\\site-packages)\n",
      "WARNING: Ignoring invalid distribution - (c:\\users\\sanam\\appdata\\local\\programs\\python\\python37\\lib\\site-packages)\n",
      "WARNING: Ignoring invalid distribution - (c:\\users\\sanam\\appdata\\local\\programs\\python\\python37\\lib\\site-packages)\n",
      "    WARNING: Ignoring invalid distribution - (c:\\users\\sanam\\appdata\\local\\programs\\python\\python37\\lib\\site-packages)\n",
      "    WARNING: Ignoring invalid distribution - (c:\\users\\sanam\\appdata\\local\\programs\\python\\python37\\lib\\site-packages)\n",
      "ERROR: Could not install packages due to an OSError: [WinError 5] Access is denied: 'c:\\\\users\\\\sanam\\\\appdata\\\\local\\\\programs\\\\python\\\\python37\\\\lib\\\\site-packages\\\\~cipy\\\\.libs\\\\libansari.54HGNEJBQIYZX5TZPCQGLNVIPFU6NWEX.gfortran-win_amd64.dll'\n",
      "Consider using the `--user` option or check the permissions.\n",
      "\n",
      "WARNING: Ignoring invalid distribution - (c:\\users\\sanam\\appdata\\local\\programs\\python\\python37\\lib\\site-packages)\n",
      "WARNING: Ignoring invalid distribution - (c:\\users\\sanam\\appdata\\local\\programs\\python\\python37\\lib\\site-packages)\n",
      "WARNING: Ignoring invalid distribution - (c:\\users\\sanam\\appdata\\local\\programs\\python\\python37\\lib\\site-packages)\n"
     ]
    }
   ],
   "source": [
    "!pip uninstall keras -y\n",
    "!pip install  keras==2.3.1"
   ]
  },
  {
   "cell_type": "code",
   "execution_count": 3,
   "metadata": {},
   "outputs": [
    {
     "name": "stdout",
     "output_type": "stream",
     "text": [
      "Collecting keras-segmentation\n",
      "  Downloading keras_segmentation-0.3.0.tar.gz (23 kB)\n",
      "  Preparing metadata (setup.py): started\n",
      "  Preparing metadata (setup.py): finished with status 'done'\n",
      "Requirement already satisfied: Keras>=2.0.0 in c:\\users\\sanam\\appdata\\local\\programs\\python\\python37\\lib\\site-packages (from keras-segmentation) (2.11.0)\n",
      "Collecting imageio==2.5.0\n",
      "  Downloading imageio-2.5.0-py3-none-any.whl (3.3 MB)\n",
      "     ---------------------------------------- 3.3/3.3 MB 162.9 kB/s eta 0:00:00\n",
      "Collecting imgaug==0.2.9\n",
      "  Downloading imgaug-0.2.9-py2.py3-none-any.whl (753 kB)\n",
      "     ------------------------------------ 753.3/753.3 kB 246.4 kB/s eta 0:00:00\n",
      "Requirement already satisfied: opencv-python in c:\\users\\sanam\\appdata\\local\\programs\\python\\python37\\lib\\site-packages (from keras-segmentation) (4.7.0.68)\n",
      "Requirement already satisfied: tqdm in c:\\users\\sanam\\appdata\\local\\programs\\python\\python37\\lib\\site-packages (from keras-segmentation) (4.65.0)\n",
      "Requirement already satisfied: pillow in c:\\users\\sanam\\appdata\\local\\programs\\python\\python37\\lib\\site-packages (from imageio==2.5.0->keras-segmentation) (9.4.0)\n",
      "Requirement already satisfied: numpy in c:\\users\\sanam\\appdata\\local\\programs\\python\\python37\\lib\\site-packages (from imageio==2.5.0->keras-segmentation) (1.19.5)\n",
      "Requirement already satisfied: scikit-image>=0.11.0 in c:\\users\\sanam\\appdata\\local\\programs\\python\\python37\\lib\\site-packages (from imgaug==0.2.9->keras-segmentation) (0.19.3)\n",
      "Requirement already satisfied: Shapely in c:\\users\\sanam\\appdata\\local\\programs\\python\\python37\\lib\\site-packages (from imgaug==0.2.9->keras-segmentation) (2.0.1)\n",
      "Requirement already satisfied: scipy in c:\\users\\sanam\\appdata\\local\\programs\\python\\python37\\lib\\site-packages (from imgaug==0.2.9->keras-segmentation) (1.4.1)\n",
      "Requirement already satisfied: six in c:\\users\\sanam\\appdata\\local\\programs\\python\\python37\\lib\\site-packages (from imgaug==0.2.9->keras-segmentation) (1.15.0)\n",
      "Requirement already satisfied: matplotlib in c:\\users\\sanam\\appdata\\local\\programs\\python\\python37\\lib\\site-packages (from imgaug==0.2.9->keras-segmentation) (3.5.3)\n",
      "Requirement already satisfied: colorama in c:\\users\\sanam\\appdata\\local\\programs\\python\\python37\\lib\\site-packages (from tqdm->keras-segmentation) (0.4.6)\n",
      "Requirement already satisfied: PyWavelets>=1.1.1 in c:\\users\\sanam\\appdata\\local\\programs\\python\\python37\\lib\\site-packages (from scikit-image>=0.11.0->imgaug==0.2.9->keras-segmentation) (1.3.0)\n",
      "Requirement already satisfied: packaging>=20.0 in c:\\users\\sanam\\appdata\\local\\programs\\python\\python37\\lib\\site-packages (from scikit-image>=0.11.0->imgaug==0.2.9->keras-segmentation) (23.0)\n",
      "Requirement already satisfied: tifffile>=2019.7.26 in c:\\users\\sanam\\appdata\\local\\programs\\python\\python37\\lib\\site-packages (from scikit-image>=0.11.0->imgaug==0.2.9->keras-segmentation) (2021.11.2)\n",
      "Requirement already satisfied: networkx>=2.2 in c:\\users\\sanam\\appdata\\local\\programs\\python\\python37\\lib\\site-packages (from scikit-image>=0.11.0->imgaug==0.2.9->keras-segmentation) (2.6.3)\n",
      "Requirement already satisfied: python-dateutil>=2.7 in c:\\users\\sanam\\appdata\\local\\programs\\python\\python37\\lib\\site-packages (from matplotlib->imgaug==0.2.9->keras-segmentation) (2.8.2)\n",
      "Requirement already satisfied: fonttools>=4.22.0 in c:\\users\\sanam\\appdata\\local\\programs\\python\\python37\\lib\\site-packages (from matplotlib->imgaug==0.2.9->keras-segmentation) (4.38.0)\n",
      "Requirement already satisfied: cycler>=0.10 in c:\\users\\sanam\\appdata\\local\\programs\\python\\python37\\lib\\site-packages (from matplotlib->imgaug==0.2.9->keras-segmentation) (0.11.0)\n",
      "Requirement already satisfied: kiwisolver>=1.0.1 in c:\\users\\sanam\\appdata\\local\\programs\\python\\python37\\lib\\site-packages (from matplotlib->imgaug==0.2.9->keras-segmentation) (1.4.4)\n",
      "Requirement already satisfied: pyparsing>=2.2.1 in c:\\users\\sanam\\appdata\\local\\programs\\python\\python37\\lib\\site-packages (from matplotlib->imgaug==0.2.9->keras-segmentation) (3.0.9)\n",
      "Requirement already satisfied: typing-extensions in c:\\users\\sanam\\appdata\\local\\programs\\python\\python37\\lib\\site-packages (from kiwisolver>=1.0.1->matplotlib->imgaug==0.2.9->keras-segmentation) (3.7.4.3)\n",
      "Building wheels for collected packages: keras-segmentation\n",
      "  Building wheel for keras-segmentation (setup.py): started\n",
      "  Building wheel for keras-segmentation (setup.py): finished with status 'done'\n",
      "  Created wheel for keras-segmentation: filename=keras_segmentation-0.3.0-py3-none-any.whl size=29069 sha256=19c6b0f81c29aa466c89ba8b1592f9454e83cbd8bf727e8bfd5676d8c6e9790e\n",
      "  Stored in directory: c:\\users\\sanam\\appdata\\local\\pip\\cache\\wheels\\68\\dc\\b3\\596a3e2461ba16e935ef31661c26e823f841cfb577cec4c47a\n",
      "Successfully built keras-segmentation\n",
      "Installing collected packages: imageio, imgaug, keras-segmentation\n",
      "  Attempting uninstall: imageio\n",
      "    Found existing installation: imageio 2.25.1\n",
      "    Uninstalling imageio-2.25.1:\n",
      "      Successfully uninstalled imageio-2.25.1\n",
      "  Attempting uninstall: imgaug\n",
      "    Found existing installation: imgaug 0.4.0\n",
      "    Uninstalling imgaug-0.4.0:\n",
      "      Successfully uninstalled imgaug-0.4.0\n",
      "Successfully installed imageio-2.5.0 imgaug-0.2.9 keras-segmentation-0.3.0\n"
     ]
    },
    {
     "name": "stderr",
     "output_type": "stream",
     "text": [
      "WARNING: Ignoring invalid distribution - (c:\\users\\sanam\\appdata\\local\\programs\\python\\python37\\lib\\site-packages)\n",
      "WARNING: Ignoring invalid distribution - (c:\\users\\sanam\\appdata\\local\\programs\\python\\python37\\lib\\site-packages)\n",
      "WARNING: Ignoring invalid distribution - (c:\\users\\sanam\\appdata\\local\\programs\\python\\python37\\lib\\site-packages)\n",
      "    WARNING: Ignoring invalid distribution - (c:\\users\\sanam\\appdata\\local\\programs\\python\\python37\\lib\\site-packages)\n",
      "    WARNING: Ignoring invalid distribution - (c:\\users\\sanam\\appdata\\local\\programs\\python\\python37\\lib\\site-packages)\n",
      "WARNING: Ignoring invalid distribution - (c:\\users\\sanam\\appdata\\local\\programs\\python\\python37\\lib\\site-packages)\n",
      "WARNING: Ignoring invalid distribution - (c:\\users\\sanam\\appdata\\local\\programs\\python\\python37\\lib\\site-packages)\n",
      "WARNING: Ignoring invalid distribution - (c:\\users\\sanam\\appdata\\local\\programs\\python\\python37\\lib\\site-packages)\n",
      "WARNING: Ignoring invalid distribution - (c:\\users\\sanam\\appdata\\local\\programs\\python\\python37\\lib\\site-packages)\n",
      "WARNING: Ignoring invalid distribution - (c:\\users\\sanam\\appdata\\local\\programs\\python\\python37\\lib\\site-packages)\n",
      "WARNING: Ignoring invalid distribution - (c:\\users\\sanam\\appdata\\local\\programs\\python\\python37\\lib\\site-packages)\n",
      "\n",
      "[notice] A new release of pip is available: 23.0.1 -> 23.1\n",
      "[notice] To update, run: python.exe -m pip install --upgrade pip\n"
     ]
    }
   ],
   "source": [
    "!pip install keras-segmentation"
   ]
  },
  {
   "cell_type": "code",
   "execution_count": null,
   "metadata": {},
   "outputs": [],
   "source": []
  },
  {
   "cell_type": "code",
   "execution_count": 4,
   "metadata": {
    "colab": {
     "base_uri": "https://localhost:8080/"
    },
    "executionInfo": {
     "elapsed": 166420,
     "status": "ok",
     "timestamp": 1652515557674,
     "user": {
      "displayName": "Suraj Ale Magar",
      "userId": "13131495928172698893"
     },
     "user_tz": -345
    },
    "id": "euLAUzI64cu2",
    "outputId": "eafaa96f-ce87-4fb1-b57f-21fcff2c8f35"
   },
   "outputs": [
    {
     "ename": "SyntaxError",
     "evalue": "(unicode error) 'unicodeescape' codec can't decode bytes in position 2-3: truncated \\UXXXXXXXX escape (403367746.py, line 8)",
     "output_type": "error",
     "traceback": [
      "\u001b[1;36m  File \u001b[1;32m\"C:\\Users\\sanam\\AppData\\Local\\Temp\\ipykernel_18356\\403367746.py\"\u001b[1;36m, line \u001b[1;32m8\u001b[0m\n\u001b[1;33m    checkpoints_path = \"C:\\Users\\sanam\\Desktop\\jupiter project\\Leather Detection\\tmp\\mobilenet_unet\" ,\u001b[0m\n\u001b[1;37m                      ^\u001b[0m\n\u001b[1;31mSyntaxError\u001b[0m\u001b[1;31m:\u001b[0m (unicode error) 'unicodeescape' codec can't decode bytes in position 2-3: truncated \\UXXXXXXXX escape\n"
     ]
    }
   ],
   "source": [
    "from keras_segmentation.models.unet import mobilenet_unet\n",
    "\n",
    "model = mobilenet_unet(n_classes=6 ,  input_height=256, input_width=256  )\n",
    "\n",
    "model.train(\n",
    "    train_images =  \"F:\\Machine Learning Project\\Leather-Defect-Segmentation-Using-Semantic-Segmentaion-Algorithms-main\\Public Dataset\\Train Image\\images\",\n",
    "    train_annotations = \"F:\\Machine Learning Project\\Leather-Defect-Segmentation-Using-Semantic-Segmentaion-Algorithms-main\\Public Dataset\\Train Image\\annotated image\",\n",
    "    checkpoints_path = \"C:\\Users\\sanam\\Desktop\\jupiter project\\Leather Detection\\tmp\\mobilenet_unet\" ,\n",
    "    epochs=45,\n",
    "    batch_size=8,\n",
    "    auto_resume_checkpoint=True\n",
    ")"
   ]
  },
  {
   "cell_type": "code",
   "execution_count": 35,
   "metadata": {
    "executionInfo": {
     "elapsed": 1752,
     "status": "ok",
     "timestamp": 1652515652105,
     "user": {
      "displayName": "Suraj Ale Magar",
      "userId": "13131495928172698893"
     },
     "user_tz": -345
    },
    "id": "LR_cr04Q7tjS"
   },
   "outputs": [],
   "source": [
    "model.save(\"C:\\Users\\sanam\\Desktop\\jupiter project\\Leather Detection\\Saved_Model/mobilenet_unet.h5\")"
   ]
  },
  {
   "cell_type": "code",
   "execution_count": 34,
   "metadata": {
    "colab": {
     "base_uri": "https://localhost:8080/",
     "height": 286
    },
    "executionInfo": {
     "elapsed": 1694,
     "status": "ok",
     "timestamp": 1652515647266,
     "user": {
      "displayName": "Suraj Ale Magar",
      "userId": "13131495928172698893"
     },
     "user_tz": -345
    },
    "id": "NJWn4xSMYKY5",
    "outputId": "82a2ab95-bf52-44d9-acb6-cbb806dd858a"
   },
   "outputs": [
    {
     "data": {
      "text/plain": [
       "<matplotlib.image.AxesImage at 0x7fec3014a410>"
      ]
     },
     "execution_count": 34,
     "metadata": {},
     "output_type": "execute_result"
    },
    {
     "data": {
      "image/png": "[encoded data removed]",
      "text/plain": [
       "<Figure size 432x288 with 1 Axes>"
      ]
     },
     "metadata": {
      "needs_background": "light"
     },
     "output_type": "display_data"
    }
   ],
   "source": [
    "out = model.predict_segmentation(\n",
    "    inp=\"F:\\Machine Learning Project\\Leather-Defect-Segmentation-Using-Semantic-Segmentaion-Algorithms-main\\Public Dataset\\Test Image\\images/1.png\",\n",
    "    out_fname=\"C:\\Users\\sanam\\Desktop\\jupiter project\\Leather Detection\\output/out.png\"\n",
    ")\n",
    "\n",
    "import matplotlib.pyplot as plt\n",
    "plt.imshow(out)"
   ]
  },
  {
   "cell_type": "code",
   "execution_count": null,
   "metadata": {
    "colab": {
     "base_uri": "https://localhost:8080/"
    },
    "executionInfo": {
     "elapsed": 33480,
     "status": "ok",
     "timestamp": 1651862642340,
     "user": {
      "displayName": "Suraj Ale Magar",
      "userId": "13131495928172698893"
     },
     "user_tz": -345
    },
    "id": "EzbkhrKbyGaY",
    "outputId": "b0613d62-75fd-46b3-9186-e9017d38ca7d"
   },
   "outputs": [
    {
     "name": "stdout",
     "output_type": "stream",
     "text": [
      "INFO:tensorflow:Assets written to: /content/drive/MyDrive/Colab Notebooks/image-segmentation-keras/leather_final/model/resnet50_unet/assets\n"
     ]
    }
   ],
   "source": [
    "# model.save(\"/content/drive/MyDrive/Colab Notebooks/Major_Project/saved_model/mobilenet_unet\") modelsaved format"
   ]
  },
  {
   "cell_type": "code",
   "execution_count": 5,
   "metadata": {
    "colab": {
     "base_uri": "https://localhost:8080/"
    },
    "executionInfo": {
     "elapsed": 7674,
     "status": "ok",
     "timestamp": 1652515663618,
     "user": {
      "displayName": "Suraj Ale Magar",
      "userId": "13131495928172698893"
     },
     "user_tz": -345
    },
    "id": "gYNJpFFS59es",
    "outputId": "7c24fffb-e1ce-4bbc-adc2-344253a9dc63"
   },
   "outputs": [
    {
     "ename": "NameError",
     "evalue": "name 'model' is not defined",
     "output_type": "error",
     "traceback": [
      "\u001b[1;31m---------------------------------------------------------------------------\u001b[0m",
      "\u001b[1;31mNameError\u001b[0m                                 Traceback (most recent call last)",
      "\u001b[1;32m~\\AppData\\Local\\Temp\\ipykernel_18356\\3537783276.py\u001b[0m in \u001b[0;36m<module>\u001b[1;34m\u001b[0m\n\u001b[1;32m----> 1\u001b[1;33m print(model.evaluate_segmentation( inp_images_dir=\"F:\\Machine Learning Project\\Leather-Defect-Segmentation-Using-Semantic-Segmentaion-Algorithms-main\\Public Dataset\\Test Image\\images\"  ,\n\u001b[0m\u001b[0;32m      2\u001b[0m                                   annotations_dir=\"F:\\Machine Learning Project\\Leather-Defect-Segmentation-Using-Semantic-Segmentaion-Algorithms-main\\Public Dataset\\Test Image\\annotated image\" ) )\n",
      "\u001b[1;31mNameError\u001b[0m: name 'model' is not defined"
     ]
    },
    {
     "name": "stderr",
     "output_type": "stream",
     "text": [
      "WARNING: Ignoring invalid distribution - (c:\\users\\sanam\\appdata\\local\\programs\\python\\python37\\lib\\site-packages)\n",
      "WARNING: Ignoring invalid distribution - (c:\\users\\sanam\\appdata\\local\\programs\\python\\python37\\lib\\site-packages)\n",
      "ERROR: Exception:\n",
      "Traceback (most recent call last):\n",
      "  File \"c:\\users\\sanam\\appdata\\local\\programs\\python\\python37\\lib\\site-packages\\pip\\_vendor\\urllib3\\response.py\", line 438, in _error_catcher\n",
      "    yield\n",
      "  File \"c:\\users\\sanam\\appdata\\local\\programs\\python\\python37\\lib\\site-packages\\pip\\_vendor\\urllib3\\response.py\", line 561, in read\n",
      "    data = self._fp_read(amt) if not fp_closed else b\"\"\n",
      "  File \"c:\\users\\sanam\\appdata\\local\\programs\\python\\python37\\lib\\site-packages\\pip\\_vendor\\urllib3\\response.py\", line 527, in _fp_read\n",
      "    return self._fp.read(amt) if amt is not None else self._fp.read()\n",
      "  File \"c:\\users\\sanam\\appdata\\local\\programs\\python\\python37\\lib\\site-packages\\pip\\_vendor\\cachecontrol\\filewrapper.py\", line 90, in read\n",
      "    data = self.__fp.read(amt)\n",
      "  File \"c:\\users\\sanam\\appdata\\local\\programs\\python\\python37\\lib\\http\\client.py\", line 457, in read\n",
      "    n = self.readinto(b)\n",
      "  File \"c:\\users\\sanam\\appdata\\local\\programs\\python\\python37\\lib\\http\\client.py\", line 501, in readinto\n",
      "    n = self.fp.readinto(b)\n",
      "  File \"c:\\users\\sanam\\appdata\\local\\programs\\python\\python37\\lib\\socket.py\", line 589, in readinto\n",
      "    return self._sock.recv_into(b)\n",
      "  File \"c:\\users\\sanam\\appdata\\local\\programs\\python\\python37\\lib\\ssl.py\", line 1071, in recv_into\n",
      "    return self.read(nbytes, buffer)\n",
      "  File \"c:\\users\\sanam\\appdata\\local\\programs\\python\\python37\\lib\\ssl.py\", line 929, in read\n",
      "    return self._sslobj.read(len, buffer)\n",
      "ConnectionResetError: [WinError 10054] An existing connection was forcibly closed by the remote host\n",
      "\n",
      "During handling of the above exception, another exception occurred:\n",
      "\n",
      "Traceback (most recent call last):\n",
      "  File \"c:\\users\\sanam\\appdata\\local\\programs\\python\\python37\\lib\\site-packages\\pip\\_internal\\cli\\base_command.py\", line 160, in exc_logging_wrapper\n",
      "    status = run_func(*args)\n",
      "  File \"c:\\users\\sanam\\appdata\\local\\programs\\python\\python37\\lib\\site-packages\\pip\\_internal\\cli\\req_command.py\", line 247, in wrapper\n",
      "    return func(self, options, args)\n",
      "  File \"c:\\users\\sanam\\appdata\\local\\programs\\python\\python37\\lib\\site-packages\\pip\\_internal\\commands\\install.py\", line 420, in run\n",
      "    reqs, check_supported_wheels=not options.target_dir\n",
      "  File \"c:\\users\\sanam\\appdata\\local\\programs\\python\\python37\\lib\\site-packages\\pip\\_internal\\resolution\\resolvelib\\resolver.py\", line 93, in resolve\n",
      "    collected.requirements, max_rounds=try_to_avoid_resolution_too_deep\n",
      "  File \"c:\\users\\sanam\\appdata\\local\\programs\\python\\python37\\lib\\site-packages\\pip\\_vendor\\resolvelib\\resolvers.py\", line 481, in resolve\n",
      "    state = resolution.resolve(requirements, max_rounds=max_rounds)\n",
      "  File \"c:\\users\\sanam\\appdata\\local\\programs\\python\\python37\\lib\\site-packages\\pip\\_vendor\\resolvelib\\resolvers.py\", line 348, in resolve\n",
      "    self._add_to_criteria(self.state.criteria, r, parent=None)\n",
      "  File \"c:\\users\\sanam\\appdata\\local\\programs\\python\\python37\\lib\\site-packages\\pip\\_vendor\\resolvelib\\resolvers.py\", line 172, in _add_to_criteria\n",
      "    if not criterion.candidates:\n",
      "  File \"c:\\users\\sanam\\appdata\\local\\programs\\python\\python37\\lib\\site-packages\\pip\\_vendor\\resolvelib\\structs.py\", line 151, in __bool__\n",
      "    return bool(self._sequence)\n",
      "  File \"c:\\users\\sanam\\appdata\\local\\programs\\python\\python37\\lib\\site-packages\\pip\\_internal\\resolution\\resolvelib\\found_candidates.py\", line 155, in __bool__\n",
      "    return any(self)\n",
      "  File \"c:\\users\\sanam\\appdata\\local\\programs\\python\\python37\\lib\\site-packages\\pip\\_internal\\resolution\\resolvelib\\found_candidates.py\", line 143, in <genexpr>\n",
      "    return (c for c in iterator if id(c) not in self._incompatible_ids)\n",
      "  File \"c:\\users\\sanam\\appdata\\local\\programs\\python\\python37\\lib\\site-packages\\pip\\_internal\\resolution\\resolvelib\\found_candidates.py\", line 47, in _iter_built\n",
      "    candidate = func()\n",
      "  File \"c:\\users\\sanam\\appdata\\local\\programs\\python\\python37\\lib\\site-packages\\pip\\_internal\\resolution\\resolvelib\\factory.py\", line 211, in _make_candidate_from_link\n",
      "    version=version,\n",
      "  File \"c:\\users\\sanam\\appdata\\local\\programs\\python\\python37\\lib\\site-packages\\pip\\_internal\\resolution\\resolvelib\\candidates.py\", line 303, in __init__\n",
      "    version=version,\n",
      "  File \"c:\\users\\sanam\\appdata\\local\\programs\\python\\python37\\lib\\site-packages\\pip\\_internal\\resolution\\resolvelib\\candidates.py\", line 162, in __init__\n",
      "    self.dist = self._prepare()\n",
      "  File \"c:\\users\\sanam\\appdata\\local\\programs\\python\\python37\\lib\\site-packages\\pip\\_internal\\resolution\\resolvelib\\candidates.py\", line 231, in _prepare\n",
      "    dist = self._prepare_distribution()\n",
      "  File \"c:\\users\\sanam\\appdata\\local\\programs\\python\\python37\\lib\\site-packages\\pip\\_internal\\resolution\\resolvelib\\candidates.py\", line 308, in _prepare_distribution\n",
      "    return preparer.prepare_linked_requirement(self._ireq, parallel_builds=True)\n",
      "  File \"c:\\users\\sanam\\appdata\\local\\programs\\python\\python37\\lib\\site-packages\\pip\\_internal\\operations\\prepare.py\", line 491, in prepare_linked_requirement\n",
      "    return self._prepare_linked_requirement(req, parallel_builds)\n",
      "  File \"c:\\users\\sanam\\appdata\\local\\programs\\python\\python37\\lib\\site-packages\\pip\\_internal\\operations\\prepare.py\", line 542, in _prepare_linked_requirement\n",
      "    hashes,\n",
      "  File \"c:\\users\\sanam\\appdata\\local\\programs\\python\\python37\\lib\\site-packages\\pip\\_internal\\operations\\prepare.py\", line 170, in unpack_url\n",
      "    hashes=hashes,\n",
      "  File \"c:\\users\\sanam\\appdata\\local\\programs\\python\\python37\\lib\\site-packages\\pip\\_internal\\operations\\prepare.py\", line 107, in get_http_url\n",
      "    from_path, content_type = download(link, temp_dir.path)\n",
      "  File \"c:\\users\\sanam\\appdata\\local\\programs\\python\\python37\\lib\\site-packages\\pip\\_internal\\network\\download.py\", line 147, in __call__\n",
      "    for chunk in chunks:\n",
      "  File \"c:\\users\\sanam\\appdata\\local\\programs\\python\\python37\\lib\\site-packages\\pip\\_internal\\cli\\progress_bars.py\", line 53, in _rich_progress_bar\n",
      "    for chunk in iterable:\n",
      "  File \"c:\\users\\sanam\\appdata\\local\\programs\\python\\python37\\lib\\site-packages\\pip\\_internal\\network\\utils.py\", line 87, in response_chunks\n",
      "    decode_content=False,\n",
      "  File \"c:\\users\\sanam\\appdata\\local\\programs\\python\\python37\\lib\\site-packages\\pip\\_vendor\\urllib3\\response.py\", line 622, in stream\n",
      "    data = self.read(amt=amt, decode_content=decode_content)\n",
      "  File \"c:\\users\\sanam\\appdata\\local\\programs\\python\\python37\\lib\\site-packages\\pip\\_vendor\\urllib3\\response.py\", line 587, in read\n",
      "    raise IncompleteRead(self._fp_bytes_read, self.length_remaining)\n",
      "  File \"c:\\users\\sanam\\appdata\\local\\programs\\python\\python37\\lib\\contextlib.py\", line 130, in __exit__\n",
      "    self.gen.throw(type, value, traceback)\n",
      "  File \"c:\\users\\sanam\\appdata\\local\\programs\\python\\python37\\lib\\site-packages\\pip\\_vendor\\urllib3\\response.py\", line 455, in _error_catcher\n",
      "    raise ProtocolError(\"Connection broken: %r\" % e, e)\n",
      "pip._vendor.urllib3.exceptions.ProtocolError: (\"Connection broken: ConnectionResetError(10054, 'An existing connection was forcibly closed by the remote host', None, 10054, None)\", ConnectionResetError(10054, 'An existing connection was forcibly closed by the remote host', None, 10054, None))\n",
      "WARNING: Ignoring invalid distribution - (c:\\users\\sanam\\appdata\\local\\programs\\python\\python37\\lib\\site-packages)\n",
      "WARNING: Ignoring invalid distribution - (c:\\users\\sanam\\appdata\\local\\programs\\python\\python37\\lib\\site-packages)\n",
      "WARNING: Ignoring invalid distribution - (c:\\users\\sanam\\appdata\\local\\programs\\python\\python37\\lib\\site-packages)\n",
      "\n",
      "[notice] A new release of pip is available: 23.0.1 -> 23.1\n",
      "[notice] To update, run: python.exe -m pip install --upgrade pip\n"
     ]
    },
    {
     "name": "stdout",
     "output_type": "stream",
     "text": [
      "Collecting tensorflow==2.5.0\n",
      "  Downloading tensorflow-2.5.0-cp37-cp37m-win_amd64.whl (422.6 MB)\n",
      "     -                                      17.3/422.6 MB 11.9 kB/s eta 9:25:24\n"
     ]
    }
   ],
   "source": [
    "print(model.evaluate_segmentation( inp_images_dir=\"F:\\Machine Learning Project\\Leather-Defect-Segmentation-Using-Semantic-Segmentaion-Algorithms-main\\Public Dataset\\Test Image\\images\"  ,\n",
    "                                  annotations_dir=\"F:\\Machine Learning Project\\Leather-Defect-Segmentation-Using-Semantic-Segmentaion-Algorithms-main\\Public Dataset\\Test Image\\annotated image\" ) )"
   ]
  },
  {
   "cell_type": "markdown",
   "metadata": {
    "id": "3AnsV-DSyB6p"
   },
   "source": [
    "## Loading "
   ]
  },
  {
   "cell_type": "code",
   "execution_count": 37,
   "metadata": {
    "executionInfo": {
     "elapsed": 3371,
     "status": "ok",
     "timestamp": 1652515677756,
     "user": {
      "displayName": "Suraj Ale Magar",
      "userId": "13131495928172698893"
     },
     "user_tz": -345
    },
    "id": "1vMJKU2wyBWt"
   },
   "outputs": [],
   "source": [
    "from keras_segmentation.models.unet import mobilenet_unet\n",
    "\n",
    "model2 = mobilenet_unet(n_classes=6 ,  input_height=256, input_width=256  )\n",
    "\n",
    "model2.load_weights(\"/content/drive/MyDrive/Colab Notebooks/Major_Project/saved_model/mobilenet_unet.h5\")\n",
    "# model2.summary()"
   ]
  },
  {
   "cell_type": "code",
   "execution_count": 38,
   "metadata": {
    "colab": {
     "base_uri": "https://localhost:8080/",
     "height": 286
    },
    "executionInfo": {
     "elapsed": 1401,
     "status": "ok",
     "timestamp": 1652515682536,
     "user": {
      "displayName": "Suraj Ale Magar",
      "userId": "13131495928172698893"
     },
     "user_tz": -345
    },
    "id": "rA7KU9YqXhQq",
    "outputId": "bf9939fa-1a47-4edb-b694-61bccc009fb3"
   },
   "outputs": [
    {
     "data": {
      "text/plain": [
       "<matplotlib.image.AxesImage at 0x7fec0437ea90>"
      ]
     },
     "execution_count": 38,
     "metadata": {},
     "output_type": "execute_result"
    },
    {
     "data": {
      "image/png": "[encoded data removed]",
      "text/plain": [
       "<Figure size 432x288 with 1 Axes>"
      ]
     },
     "metadata": {
      "needs_background": "light"
     },
     "output_type": "display_data"
    }
   ],
   "source": [
    "out = model2.predict_segmentation(\n",
    "    inp=\"/content/drive/MyDrive/Colab Notebooks/Major_Project/Public Dataset/Test Image/images/1.png\",\n",
    "    out_fname=\"/content/drive/MyDrive/Colab Notebooks/Major_Project/output/out.png\"\n",
    ")\n",
    "\n",
    "import matplotlib.pyplot as plt\n",
    "plt.imshow(out)"
   ]
  },
  {
   "cell_type": "code",
   "execution_count": 39,
   "metadata": {
    "colab": {
     "base_uri": "https://localhost:8080/"
    },
    "executionInfo": {
     "elapsed": 7942,
     "status": "ok",
     "timestamp": 1652515694625,
     "user": {
      "displayName": "Suraj Ale Magar",
      "userId": "13131495928172698893"
     },
     "user_tz": -345
    },
    "id": "Yn05R-hDXPQ7",
    "outputId": "88d8c72d-6de0-4055-a32d-e95b5d56ccac"
   },
   "outputs": [
    {
     "name": "stderr",
     "output_type": "stream",
     "text": [
      "111it [00:06, 16.27it/s]"
     ]
    },
    {
     "name": "stdout",
     "output_type": "stream",
     "text": [
      "{'frequency_weighted_IU': 0.933026891505006, 'mean_IU': 0.6339442540675632, 'mean_F1': 0.7506715753006548, 'mean_Recall': 0.7188227583596332, 'Total_Error': array([0.91143799, 0.18771362, 0.36920166, 0.36825562, 0.0993042 ,\n",
      "       0.18063354]), 'mean_Precision': 0.8253799949327821, 'class_wise_IU': array([0.96407357, 0.53938895, 0.37841032, 0.64860733, 0.91018493,\n",
      "       0.36300043]), 'class_wise_f1_score': array([0.98170821, 0.70078319, 0.54905323, 0.78685484, 0.95298096,\n",
      "       0.53264903]), 'class_wise_Recall': array([0.98436271, 0.55567985, 0.55044843, 0.88783259, 0.93515775,\n",
      "       0.39945523]), 'class_wise_Precision': array([0.97906798, 0.94844954, 0.54766508, 0.70650088, 0.97149675,\n",
      "       0.79909974])}\n"
     ]
    },
    {
     "name": "stderr",
     "output_type": "stream",
     "text": [
      "\n"
     ]
    }
   ],
   "source": [
    "print(model2.evaluate_segmentation( inp_images_dir=\"/content/drive/MyDrive/Colab Notebooks/Major_Project/Public Dataset/Test Image/images\"  ,\n",
    "                                  annotations_dir=\"/content/drive/MyDrive/Colab Notebooks/Major_Project/Public Dataset/Test Image/annotated image\" ) )"
   ]
  },
  {
   "cell_type": "code",
   "execution_count": null,
   "metadata": {
    "id": "uF1vF6EJyBii"
   },
   "outputs": [],
   "source": []
  }
 ],
 "metadata": {
  "accelerator": "GPU",
  "colab": {
   "collapsed_sections": [],
   "name": "Leather Defect Detection Using Convolutional Neural Network.ipynb",
   "provenance": [
    {
     "file_id": "1QKUGswtquqAiijvgh2l0rt-EVu3JRnHa",
     "timestamp": 1651563566439
    }
   ]
  },
  "kernelspec": {
   "display_name": "Python 3 (ipykernel)",
   "language": "python",
   "name": "python3"
  },
  "language_info": {
   "codemirror_mode": {
    "name": "ipython",
    "version": 3
   },
   "file_extension": ".py",
   "mimetype": "text/x-python",
   "name": "python",
   "nbconvert_exporter": "python",
   "pygments_lexer": "ipython3",
   "version": "3.7.6"
  }
 },
 "nbformat": 4,
 "nbformat_minor": 1
}
